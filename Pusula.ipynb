{
 "cells": [
  {
   "cell_type": "code",
   "execution_count": 2,
   "id": "ec4d1b4d-19b4-48ed-8870-35981fcbbb2f",
   "metadata": {},
   "outputs": [],
   "source": [
    "import pandas as pd\n",
    "import numpy as np \n",
    "import seaborn as sn"
   ]
  },
  {
   "cell_type": "code",
   "execution_count": 4,
   "id": "34dde187-85fd-46c5-938b-fa01fdcd8d47",
   "metadata": {},
   "outputs": [],
   "source": [
    "side = \"side_effect_data 1.xlsx\""
   ]
  },
  {
   "cell_type": "code",
   "execution_count": 6,
   "id": "9c0e5ccb-a030-48db-8399-05a56afa712d",
   "metadata": {},
   "outputs": [
    {
     "data": {
      "text/html": [
       "<div>\n",
       "<style scoped>\n",
       "    .dataframe tbody tr th:only-of-type {\n",
       "        vertical-align: middle;\n",
       "    }\n",
       "\n",
       "    .dataframe tbody tr th {\n",
       "        vertical-align: top;\n",
       "    }\n",
       "\n",
       "    .dataframe thead th {\n",
       "        text-align: right;\n",
       "    }\n",
       "</style>\n",
       "<table border=\"1\" class=\"dataframe\">\n",
       "  <thead>\n",
       "    <tr style=\"text-align: right;\">\n",
       "      <th></th>\n",
       "      <th>Kullanici_id</th>\n",
       "      <th>Cinsiyet</th>\n",
       "      <th>Dogum_Tarihi</th>\n",
       "      <th>Uyruk</th>\n",
       "      <th>Il</th>\n",
       "      <th>Ilac_Adi</th>\n",
       "      <th>Ilac_Baslangic_Tarihi</th>\n",
       "      <th>Ilac_Bitis_Tarihi</th>\n",
       "      <th>Yan_Etki</th>\n",
       "      <th>Yan_Etki_Bildirim_Tarihi</th>\n",
       "      <th>Alerjilerim</th>\n",
       "      <th>Kronik Hastaliklarim</th>\n",
       "      <th>Baba Kronik Hastaliklari</th>\n",
       "      <th>Anne Kronik Hastaliklari</th>\n",
       "      <th>Kiz Kardes Kronik Hastaliklari</th>\n",
       "      <th>Erkek Kardes Kronik Hastaliklari</th>\n",
       "      <th>Kan Grubu</th>\n",
       "      <th>Kilo</th>\n",
       "      <th>Boy</th>\n",
       "    </tr>\n",
       "  </thead>\n",
       "  <tbody>\n",
       "    <tr>\n",
       "      <th>0</th>\n",
       "      <td>107</td>\n",
       "      <td>Male</td>\n",
       "      <td>1960-03-01</td>\n",
       "      <td>Turkiye</td>\n",
       "      <td>Canakkale</td>\n",
       "      <td>trifluoperazine</td>\n",
       "      <td>2022-01-09</td>\n",
       "      <td>2022-03-04</td>\n",
       "      <td>Kabizlik</td>\n",
       "      <td>2022-02-19 18:28:43</td>\n",
       "      <td>Ceviz</td>\n",
       "      <td>Hipertansiyon, Kan Hastaliklari</td>\n",
       "      <td>Guatr, Hipertansiyon</td>\n",
       "      <td>KOAH</td>\n",
       "      <td>Kemik Erimesi, Kalp Hastaliklari</td>\n",
       "      <td>Kemik Erimesi, Guatr</td>\n",
       "      <td>B RH-</td>\n",
       "      <td>103.0</td>\n",
       "      <td>191.0</td>\n",
       "    </tr>\n",
       "    <tr>\n",
       "      <th>1</th>\n",
       "      <td>140</td>\n",
       "      <td>Male</td>\n",
       "      <td>1939-10-12</td>\n",
       "      <td>Turkiye</td>\n",
       "      <td>Trabzon</td>\n",
       "      <td>fluphenazine hcl</td>\n",
       "      <td>2022-01-09</td>\n",
       "      <td>2022-03-08</td>\n",
       "      <td>Yorgunluk</td>\n",
       "      <td>2022-02-03 20:48:17</td>\n",
       "      <td>Toz</td>\n",
       "      <td>NaN</td>\n",
       "      <td>Guatr, Diger</td>\n",
       "      <td>Hipertansiyon, Kalp Hastaliklari</td>\n",
       "      <td></td>\n",
       "      <td>KOAH, Diyabet</td>\n",
       "      <td>NaN</td>\n",
       "      <td>81.0</td>\n",
       "      <td>181.0</td>\n",
       "    </tr>\n",
       "    <tr>\n",
       "      <th>2</th>\n",
       "      <td>2</td>\n",
       "      <td>Female</td>\n",
       "      <td>1976-12-17</td>\n",
       "      <td>Turkiye</td>\n",
       "      <td>Canakkale</td>\n",
       "      <td>warfarin sodium</td>\n",
       "      <td>2022-01-11</td>\n",
       "      <td>2022-03-12</td>\n",
       "      <td>Carpinti</td>\n",
       "      <td>2022-02-04 05:29:20</td>\n",
       "      <td>Muz</td>\n",
       "      <td>Kalp Hastaliklari, Diyabet</td>\n",
       "      <td>Diyabet, KOAH</td>\n",
       "      <td>Kemik Erimesi, Diyabet</td>\n",
       "      <td>Diyabet, Kemik Erimesi</td>\n",
       "      <td>Diger</td>\n",
       "      <td>B RH-</td>\n",
       "      <td>93.0</td>\n",
       "      <td>158.0</td>\n",
       "    </tr>\n",
       "    <tr>\n",
       "      <th>3</th>\n",
       "      <td>83</td>\n",
       "      <td>Male</td>\n",
       "      <td>1977-06-17</td>\n",
       "      <td>Turkiye</td>\n",
       "      <td>Adana</td>\n",
       "      <td>valproic acid</td>\n",
       "      <td>2022-01-04</td>\n",
       "      <td>2022-03-12</td>\n",
       "      <td>Sinirlilik</td>\n",
       "      <td>2022-02-08 01:01:21</td>\n",
       "      <td>Pancar</td>\n",
       "      <td>Diyabet, Diger</td>\n",
       "      <td>Kalp Hastaliklari, Diger</td>\n",
       "      <td>NaN</td>\n",
       "      <td>Astim</td>\n",
       "      <td>Kalp Hastaliklari, Kanser</td>\n",
       "      <td>AB RH-</td>\n",
       "      <td>NaN</td>\n",
       "      <td>165.0</td>\n",
       "    </tr>\n",
       "    <tr>\n",
       "      <th>4</th>\n",
       "      <td>7</td>\n",
       "      <td>Female</td>\n",
       "      <td>1976-09-03</td>\n",
       "      <td>Turkiye</td>\n",
       "      <td>Izmir</td>\n",
       "      <td>carbamazepine extended release</td>\n",
       "      <td>2022-01-13</td>\n",
       "      <td>2022-03-06</td>\n",
       "      <td>Agizda Farkli Bir Tat</td>\n",
       "      <td>2022-02-12 05:33:06</td>\n",
       "      <td>NaN</td>\n",
       "      <td>Diyabet, Kalp Hastaliklari</td>\n",
       "      <td>Alzheimer, Hipertansiyon</td>\n",
       "      <td>Kan Hastaliklari, Kemik Erimesi</td>\n",
       "      <td>Diyabet, Diger</td>\n",
       "      <td>Alzheimer, Hipertansiyon</td>\n",
       "      <td>AB RH-</td>\n",
       "      <td>99.0</td>\n",
       "      <td>172.0</td>\n",
       "    </tr>\n",
       "  </tbody>\n",
       "</table>\n",
       "</div>"
      ],
      "text/plain": [
       "   Kullanici_id Cinsiyet Dogum_Tarihi    Uyruk         Il  \\\n",
       "0           107     Male   1960-03-01  Turkiye  Canakkale   \n",
       "1           140     Male   1939-10-12  Turkiye    Trabzon   \n",
       "2             2   Female   1976-12-17  Turkiye  Canakkale   \n",
       "3            83     Male   1977-06-17  Turkiye      Adana   \n",
       "4             7   Female   1976-09-03  Turkiye      Izmir   \n",
       "\n",
       "                         Ilac_Adi Ilac_Baslangic_Tarihi Ilac_Bitis_Tarihi  \\\n",
       "0                 trifluoperazine            2022-01-09        2022-03-04   \n",
       "1                fluphenazine hcl            2022-01-09        2022-03-08   \n",
       "2                 warfarin sodium            2022-01-11        2022-03-12   \n",
       "3                   valproic acid            2022-01-04        2022-03-12   \n",
       "4  carbamazepine extended release            2022-01-13        2022-03-06   \n",
       "\n",
       "                Yan_Etki Yan_Etki_Bildirim_Tarihi Alerjilerim  \\\n",
       "0               Kabizlik      2022-02-19 18:28:43       Ceviz   \n",
       "1              Yorgunluk      2022-02-03 20:48:17         Toz   \n",
       "2               Carpinti      2022-02-04 05:29:20         Muz   \n",
       "3             Sinirlilik      2022-02-08 01:01:21      Pancar   \n",
       "4  Agizda Farkli Bir Tat      2022-02-12 05:33:06         NaN   \n",
       "\n",
       "              Kronik Hastaliklarim  Baba Kronik Hastaliklari  \\\n",
       "0  Hipertansiyon, Kan Hastaliklari      Guatr, Hipertansiyon   \n",
       "1                              NaN              Guatr, Diger   \n",
       "2       Kalp Hastaliklari, Diyabet             Diyabet, KOAH   \n",
       "3                   Diyabet, Diger  Kalp Hastaliklari, Diger   \n",
       "4       Diyabet, Kalp Hastaliklari  Alzheimer, Hipertansiyon   \n",
       "\n",
       "           Anne Kronik Hastaliklari    Kiz Kardes Kronik Hastaliklari  \\\n",
       "0                              KOAH  Kemik Erimesi, Kalp Hastaliklari   \n",
       "1  Hipertansiyon, Kalp Hastaliklari                                     \n",
       "2            Kemik Erimesi, Diyabet            Diyabet, Kemik Erimesi   \n",
       "3                               NaN                             Astim   \n",
       "4   Kan Hastaliklari, Kemik Erimesi                    Diyabet, Diger   \n",
       "\n",
       "  Erkek Kardes Kronik Hastaliklari Kan Grubu   Kilo    Boy  \n",
       "0             Kemik Erimesi, Guatr     B RH-  103.0  191.0  \n",
       "1                    KOAH, Diyabet       NaN   81.0  181.0  \n",
       "2                            Diger     B RH-   93.0  158.0  \n",
       "3        Kalp Hastaliklari, Kanser    AB RH-    NaN  165.0  \n",
       "4         Alzheimer, Hipertansiyon    AB RH-   99.0  172.0  "
      ]
     },
     "execution_count": 6,
     "metadata": {},
     "output_type": "execute_result"
    }
   ],
   "source": [
    "data = pd.read_excel(side)\n",
    "data.head()"
   ]
  },
  {
   "cell_type": "code",
   "execution_count": 14,
   "id": "f1091594-0ca9-44ab-879a-2e574669f75d",
   "metadata": {},
   "outputs": [
    {
     "data": {
      "text/plain": [
       "(2357, 19)"
      ]
     },
     "execution_count": 14,
     "metadata": {},
     "output_type": "execute_result"
    }
   ],
   "source": [
    "data.shape"
   ]
  },
  {
   "cell_type": "code",
   "execution_count": 16,
   "id": "c0423fe5-14fc-45fa-8543-d9e66a6d9f9d",
   "metadata": {},
   "outputs": [
    {
     "name": "stdout",
     "output_type": "stream",
     "text": [
      "<class 'pandas.core.frame.DataFrame'>\n",
      "RangeIndex: 2357 entries, 0 to 2356\n",
      "Data columns (total 19 columns):\n",
      " #   Column                            Non-Null Count  Dtype         \n",
      "---  ------                            --------------  -----         \n",
      " 0   Kullanici_id                      2357 non-null   int64         \n",
      " 1   Cinsiyet                          1579 non-null   object        \n",
      " 2   Dogum_Tarihi                      2357 non-null   datetime64[ns]\n",
      " 3   Uyruk                             2357 non-null   object        \n",
      " 4   Il                                2130 non-null   object        \n",
      " 5   Ilac_Adi                          2357 non-null   object        \n",
      " 6   Ilac_Baslangic_Tarihi             2357 non-null   datetime64[ns]\n",
      " 7   Ilac_Bitis_Tarihi                 2357 non-null   datetime64[ns]\n",
      " 8   Yan_Etki                          2357 non-null   object        \n",
      " 9   Yan_Etki_Bildirim_Tarihi          2357 non-null   datetime64[ns]\n",
      " 10  Alerjilerim                       1873 non-null   object        \n",
      " 11  Kronik Hastaliklarim              1965 non-null   object        \n",
      " 12  Baba Kronik Hastaliklari          2201 non-null   object        \n",
      " 13  Anne Kronik Hastaliklari          2140 non-null   object        \n",
      " 14  Kiz Kardes Kronik Hastaliklari    2260 non-null   object        \n",
      " 15  Erkek Kardes Kronik Hastaliklari  2236 non-null   object        \n",
      " 16  Kan Grubu                         2010 non-null   object        \n",
      " 17  Kilo                              2064 non-null   float64       \n",
      " 18  Boy                               2243 non-null   float64       \n",
      "dtypes: datetime64[ns](4), float64(2), int64(1), object(12)\n",
      "memory usage: 350.0+ KB\n"
     ]
    }
   ],
   "source": [
    "data.info()"
   ]
  },
  {
   "cell_type": "markdown",
   "id": "ed283cb1-95d4-4ad3-9e0e-20609c5d7fe5",
   "metadata": {},
   "source": [
    "Veriye ait bilgilere baktığımızda 4 tane zaman serisi içersen tarih değişkeni, 2 tane ondalık sayı içerek değişken, 1 tane tam sayı içeren değişken ve 12 tane kategorik değişken bulunmakta. "
   ]
  },
  {
   "cell_type": "code",
   "execution_count": 19,
   "id": "25951c36-77a4-42a9-9fd4-1813005cfdcd",
   "metadata": {},
   "outputs": [
    {
     "data": {
      "text/plain": [
       "Kullanici_id                          0\n",
       "Cinsiyet                            778\n",
       "Dogum_Tarihi                          0\n",
       "Uyruk                                 0\n",
       "Il                                  227\n",
       "Ilac_Adi                              0\n",
       "Ilac_Baslangic_Tarihi                 0\n",
       "Ilac_Bitis_Tarihi                     0\n",
       "Yan_Etki                              0\n",
       "Yan_Etki_Bildirim_Tarihi              0\n",
       "Alerjilerim                         484\n",
       "Kronik Hastaliklarim                392\n",
       "Baba Kronik Hastaliklari            156\n",
       "Anne Kronik Hastaliklari            217\n",
       "Kiz Kardes Kronik Hastaliklari       97\n",
       "Erkek Kardes Kronik Hastaliklari    121\n",
       "Kan Grubu                           347\n",
       "Kilo                                293\n",
       "Boy                                 114\n",
       "dtype: int64"
      ]
     },
     "execution_count": 19,
     "metadata": {},
     "output_type": "execute_result"
    }
   ],
   "source": [
    "data.isnull().sum()"
   ]
  },
  {
   "cell_type": "markdown",
   "id": "3d01f616-a9b7-4da3-b06d-3c58e92cde63",
   "metadata": {},
   "source": [
    "Her bir değişken için eksik gözlem sayısına baktığımızda bazı değişkenlerde çok fazla eksik gözlem bulunduğunu görüyoruz."
   ]
  },
  {
   "cell_type": "code",
   "execution_count": 22,
   "id": "364271cb-05ba-4bb9-b664-338f11a302f4",
   "metadata": {},
   "outputs": [
    {
     "name": "stdout",
     "output_type": "stream",
     "text": [
      "Kullanici_id                         0.000000\n",
      "Cinsiyet                            33.008061\n",
      "Dogum_Tarihi                         0.000000\n",
      "Uyruk                                0.000000\n",
      "Il                                   9.630887\n",
      "Ilac_Adi                             0.000000\n",
      "Ilac_Baslangic_Tarihi                0.000000\n",
      "Ilac_Bitis_Tarihi                    0.000000\n",
      "Yan_Etki                             0.000000\n",
      "Yan_Etki_Bildirim_Tarihi             0.000000\n",
      "Alerjilerim                         20.534578\n",
      "Kronik Hastaliklarim                16.631311\n",
      "Baba Kronik Hastaliklari             6.618583\n",
      "Anne Kronik Hastaliklari             9.206619\n",
      "Kiz Kardes Kronik Hastaliklari       4.115401\n",
      "Erkek Kardes Kronik Hastaliklari     5.133644\n",
      "Kan Grubu                           14.722104\n",
      "Kilo                                12.431056\n",
      "Boy                                  4.836657\n",
      "dtype: float64\n"
     ]
    }
   ],
   "source": [
    "missing_values = data.isnull().mean() * 100\n",
    "print(missing_values)"
   ]
  },
  {
   "cell_type": "markdown",
   "id": "0bcdba24-8f50-47cf-8de9-aef745b1fc48",
   "metadata": {},
   "source": [
    "Eksik gözlemler için yapılacak işleme karar vermek için yüzdeliğe bakıyoruz. Alerjilerim, Kronik hastalıklarım, Baba kronik hastalıkları, Anne kronik hastalıkları, Kız kardeş kronik hastalıkları ve Erkek kardeş kronik hastalıklarındaki null değerler aslında alerjiye ve kronik hastalığa sahip olmadığı anlamında gelebildiği için analizden çıkartmak yerine 0 değerini atamak daha mantıklıdır."
   ]
  },
  {
   "cell_type": "code",
   "execution_count": 52,
   "id": "715f59fb-7bf6-4f90-adaf-2f485f71a717",
   "metadata": {},
   "outputs": [],
   "source": [
    "data= pd.DataFrame(data)"
   ]
  },
  {
   "cell_type": "code",
   "execution_count": 67,
   "id": "2e66cd6e-5209-4384-8258-59efa60177e9",
   "metadata": {},
   "outputs": [
    {
     "data": {
      "text/plain": [
       "Kullanici_id                         0.000000\n",
       "Cinsiyet                            33.008061\n",
       "Dogum_Tarihi                         0.000000\n",
       "Uyruk                                0.000000\n",
       "Il                                   9.630887\n",
       "Ilac_Adi                             0.000000\n",
       "Ilac_Baslangic_Tarihi                0.000000\n",
       "Ilac_Bitis_Tarihi                    0.000000\n",
       "Yan_Etki                             0.000000\n",
       "Yan_Etki_Bildirim_Tarihi             0.000000\n",
       "Alerjilerim                          0.000000\n",
       "Kronik Hastaliklarim                 0.000000\n",
       "Baba Kronik Hastaliklari             0.000000\n",
       "Anne Kronik Hastaliklari             0.000000\n",
       "Kiz Kardes Kronik Hastaliklari       0.000000\n",
       "Erkek Kardes Kronik Hastaliklari     0.000000\n",
       "Kan Grubu                           14.722104\n",
       "Kilo                                12.431056\n",
       "Boy                                  4.836657\n",
       "dtype: float64"
      ]
     },
     "execution_count": 67,
     "metadata": {},
     "output_type": "execute_result"
    }
   ],
   "source": [
    "data[[\"Alerjilerim\", \"Kronik Hastaliklarim\", \"Baba Kronik Hastaliklari\", \"Anne Kronik Hastaliklari\", \"Kiz Kardes Kronik Hastaliklari\", \"Erkek Kardes Kronik Hastaliklari\"]] = data[[\"Alerjilerim\", \"Kronik Hastaliklarim\", \"Baba Kronik Hastaliklari\", \"Anne Kronik Hastaliklari\", \"Kiz Kardes Kronik Hastaliklari\", \"Erkek Kardes Kronik Hastaliklari\"]].fillna(0)\n",
    "data.isnull().mean() * 100"
   ]
  },
  {
   "cell_type": "markdown",
   "id": "a615ccdb-e431-41e3-94d4-40d21f596874",
   "metadata": {},
   "source": [
    "Kilo değişkeninin eksik gözlemlerini nasıl dolduracağımıza karar vermek için önce normalliğini test etmemiz gerekir."
   ]
  },
  {
   "cell_type": "code",
   "execution_count": 69,
   "id": "e0e0d473-2280-492c-bd99-1810323748ad",
   "metadata": {},
   "outputs": [
    {
     "data": {
      "text/plain": [
       "<Axes: xlabel='Kilo', ylabel='Count'>"
      ]
     },
     "execution_count": 69,
     "metadata": {},
     "output_type": "execute_result"
    },
    {
     "data": {
      "image/png": "[encoded data removed]",
      "text/plain": [
       "<Figure size 800x500 with 1 Axes>"
      ]
     },
     "metadata": {},
     "output_type": "display_data"
    }
   ],
   "source": [
    "import matplotlib.pyplot as plt\n",
    "import seaborn as sns\n",
    "plt.figure(figsize=(8, 5))\n",
    "sns.histplot(data['Kilo'], kde=True, bins=30)"
   ]
  },
  {
   "cell_type": "code",
   "execution_count": 75,
   "id": "685d4c92-547e-4d2f-bb30-2fa7f6b3325c",
   "metadata": {},
   "outputs": [
    {
     "name": "stdout",
     "output_type": "stream",
     "text": [
      "Shapiro-Wilk Testi İstatistiği=0.939, p-değeri=0.000\n",
      "Kilo değişkeni normal dağılmıyor (p <= 0.05)\n"
     ]
    }
   ],
   "source": [
    "from scipy.stats import shapiro\n",
    "\n",
    "stat, p_value = shapiro(data['Kilo'].dropna())\n",
    "print('Shapiro-Wilk Testi İstatistiği=%.3f, p-değeri=%.3f' % (stat, p_value))\n",
    "if p_value > 0.05:\n",
    "    print(\"Kilo değişkeni normal dağılıyor (p > 0.05)\")\n",
    "else:\n",
    "    print(\"Kilo değişkeni normal dağılmıyor (p <= 0.05)\")"
   ]
  },
  {
   "cell_type": "markdown",
   "id": "d181af06-749f-4a25-892f-d2d9519b802c",
   "metadata": {},
   "source": [
    "Kilo değişkeni normal dağılmadığı için eksik gözlemlere ortalama değeri ataması yapamayız.\n"
   ]
  },
  {
   "cell_type": "code",
   "execution_count": 85,
   "id": "fdb4ad48-431c-45a4-aa21-22dbc72d86d2",
   "metadata": {},
   "outputs": [
    {
     "data": {
      "text/plain": [
       "0    103.0\n",
       "1     81.0\n",
       "2     93.0\n",
       "3     96.2\n",
       "4     99.0\n",
       "Name: Kilo, dtype: float64"
      ]
     },
     "execution_count": 85,
     "metadata": {},
     "output_type": "execute_result"
    }
   ],
   "source": [
    "import pandas as pd\n",
    "from sklearn.impute import KNNImputer\n",
    "numeric_data = data[[\"Kilo\", \"Boy\"]]\n",
    "imputer = KNNImputer(n_neighbors=5)\n",
    "numeric_data_imputed = pd.DataFrame(imputer.fit_transform(numeric_data), columns=numeric_data.columns)\n",
    "data[\"Kilo\"] = numeric_data_imputed[\"Kilo\"]\n",
    "data[\"Kilo\"].head()"
   ]
  },
  {
   "cell_type": "markdown",
   "id": "2bbb3e5d-57a0-4e7c-bda5-efa78904d490",
   "metadata": {},
   "source": [
    "Kilo değişkenindeki eksik verileri K-En yakın komşu algoritmasını kullanarak doldurduk."
   ]
  },
  {
   "cell_type": "code",
   "execution_count": 93,
   "id": "3786e694-459b-4cfd-8771-ed081210b904",
   "metadata": {},
   "outputs": [
    {
     "name": "stdout",
     "output_type": "stream",
     "text": [
      "Shapiro-Wilk Testi İstatistiği=0.960, p-değeri=0.000\n",
      "Boy değişkeni normal dağılmıyor (p <= 0.05)\n"
     ]
    }
   ],
   "source": [
    "stat, p_value = shapiro(data['Boy'].dropna())\n",
    "print('Shapiro-Wilk Testi İstatistiği=%.3f, p-değeri=%.3f' % (stat, p_value))\n",
    "if p_value > 0.05:\n",
    "    print(\"Boy değişkeni normal dağılıyor (p > 0.05)\")\n",
    "else:\n",
    "    print(\"Boy değişkeni normal dağılmıyor (p <= 0.05)\")"
   ]
  },
  {
   "cell_type": "markdown",
   "id": "92c9c40e-13c1-41f4-8d4b-0b720fb2c8d0",
   "metadata": {},
   "source": [
    "Boy değişkeni de normal dağılmadığı için değişkendeki eksik verileri yine k en yakın komşu algoritmasını kullanarak doldurmamız gerekir."
   ]
  },
  {
   "cell_type": "code",
   "execution_count": 89,
   "id": "6d154793-43a1-4b8e-88a5-f87258e4e2cd",
   "metadata": {},
   "outputs": [
    {
     "data": {
      "text/plain": [
       "0    191.0\n",
       "1    181.0\n",
       "2    158.0\n",
       "3    165.0\n",
       "4    172.0\n",
       "Name: Boy, dtype: float64"
      ]
     },
     "execution_count": 89,
     "metadata": {},
     "output_type": "execute_result"
    }
   ],
   "source": [
    "numeric_data = data[[\"Kilo\", \"Boy\"]]\n",
    "imputer = KNNImputer(n_neighbors=5)\n",
    "numeric_data_imputed = pd.DataFrame(imputer.fit_transform(numeric_data), columns=numeric_data.columns)\n",
    "data[\"Boy\"] = numeric_data_imputed[\"Boy\"]\n",
    "data[\"Boy\"].head()"
   ]
  },
  {
   "cell_type": "code",
   "execution_count": 112,
   "id": "b9fa5721-8fbe-4b83-ab4c-40379885bca5",
   "metadata": {},
   "outputs": [],
   "source": [
    "categorical_columns = data[['Cinsiyet', 'Kan Grubu', 'Il']]\n",
    "for column in categorical_columns:\n",
    "    mode_value = data[column].mode()[0]  \n",
    "    data[column].fillna(mode_value, inplace=True)\n",
    " "
   ]
  },
  {
   "cell_type": "code",
   "execution_count": 115,
   "id": "dcda2691-83b2-4ee4-acff-598acd27ae93",
   "metadata": {},
   "outputs": [
    {
     "data": {
      "text/plain": [
       "Kullanici_id                        0\n",
       "Cinsiyet                            0\n",
       "Dogum_Tarihi                        0\n",
       "Uyruk                               0\n",
       "Il                                  0\n",
       "Ilac_Adi                            0\n",
       "Ilac_Baslangic_Tarihi               0\n",
       "Ilac_Bitis_Tarihi                   0\n",
       "Yan_Etki                            0\n",
       "Yan_Etki_Bildirim_Tarihi            0\n",
       "Alerjilerim                         0\n",
       "Kronik Hastaliklarim                0\n",
       "Baba Kronik Hastaliklari            0\n",
       "Anne Kronik Hastaliklari            0\n",
       "Kiz Kardes Kronik Hastaliklari      0\n",
       "Erkek Kardes Kronik Hastaliklari    0\n",
       "Kan Grubu                           0\n",
       "Kilo                                0\n",
       "Boy                                 0\n",
       "dtype: int64"
      ]
     },
     "execution_count": 115,
     "metadata": {},
     "output_type": "execute_result"
    }
   ],
   "source": [
    "data.isnull().sum()"
   ]
  },
  {
   "cell_type": "code",
   "execution_count": 100,
   "id": "4d9e9e59-bbce-4613-b28d-8f188b172a25",
   "metadata": {},
   "outputs": [
    {
     "data": {
      "text/plain": [
       "0       Canakkale\n",
       "1         Trabzon\n",
       "2       Canakkale\n",
       "3           Adana\n",
       "4           Izmir\n",
       "          ...    \n",
       "2352        Adana\n",
       "2353       Mersin\n",
       "2354       Mersin\n",
       "2355      Kayseri\n",
       "2356     Istanbul\n",
       "Name: Il, Length: 2357, dtype: object"
      ]
     },
     "execution_count": 100,
     "metadata": {},
     "output_type": "execute_result"
    }
   ],
   "source": [
    "Kategorik değişkenlerdeki eksik verileri de değişkenlerin modlarıyla doldurduk."
   ]
  },
  {
   "cell_type": "code",
   "execution_count": 119,
   "id": "7292e1b6-4dd9-43fb-8ef0-25d65ba462e6",
   "metadata": {},
   "outputs": [
    {
     "name": "stdout",
     "output_type": "stream",
     "text": [
      "Cinsiyet\n",
      "Female    1650\n",
      "Male       707\n",
      "Name: count, dtype: int64\n",
      "Uyruk\n",
      "Turkiye    2357\n",
      "Name: count, dtype: int64\n",
      "Alerjilerim\n",
      "0                  484\n",
      "Domates            118\n",
      "Karaciger          109\n",
      "Pancar             100\n",
      "Balik               98\n",
      "Havyar              97\n",
      "Ispanakgiller       95\n",
      "Kefir               91\n",
      "Kopek               91\n",
      "Yogurt              89\n",
      "Deniz Urunler       87\n",
      "Muz                 81\n",
      "Kabak Cekirdegi     77\n",
      "Kahve               76\n",
      "Sari Kantaron       75\n",
      "Toz                 70\n",
      "Laktoz              60\n",
      "Bugday              55\n",
      "Cikolata            53\n",
      "Elma                53\n",
      "Ispanak             48\n",
      "Istiridye           46\n",
      "Bal                 43\n",
      "Kedi                38\n",
      "Lateks              32\n",
      "Ceviz               30\n",
      "Sut                 27\n",
      "Kakao               22\n",
      "Kolali Icecek       12\n",
      "Name: count, dtype: int64\n",
      "Kan Grubu\n",
      "AB RH-    768\n",
      "0 RH+     275\n",
      "B RH+     256\n",
      "AB RH+    250\n",
      "B RH-     233\n",
      "0 RH-     232\n",
      "A RH+     198\n",
      "A RH-     145\n",
      "Name: count, dtype: int64\n"
     ]
    }
   ],
   "source": [
    "print(data['Cinsiyet'].value_counts())\n",
    "print(data['Uyruk'].value_counts())\n",
    "print(data['Alerjilerim'].value_counts())\n",
    "print(data['Kan Grubu'].value_counts())"
   ]
  },
  {
   "cell_type": "markdown",
   "id": "acfec3a7-aef9-4a0e-a57f-96befbad2fe5",
   "metadata": {},
   "source": [
    "Kategorik değişkenlerimize ait veri sayılarını da kategori bazlı görmüş olduk."
   ]
  },
  {
   "cell_type": "code",
   "execution_count": 121,
   "id": "fb351e01-0696-44ca-ae6b-c2dc9b2ae2c2",
   "metadata": {},
   "outputs": [
    {
     "name": "stdout",
     "output_type": "stream",
     "text": [
      "              Kilo          Boy\n",
      "count  2357.000000  2357.000000\n",
      "mean     80.849385   174.643360\n",
      "std      17.796492    16.431335\n",
      "min      50.000000   145.000000\n",
      "25%      67.000000   160.000000\n",
      "50%      82.000000   176.000000\n",
      "75%      94.000000   187.000000\n",
      "max     110.000000   203.000000\n"
     ]
    }
   ],
   "source": [
    "print(data[['Kilo', 'Boy']].describe())"
   ]
  },
  {
   "cell_type": "code",
   "execution_count": 123,
   "id": "53c4fb00-2552-463c-91cd-9743d37265cf",
   "metadata": {},
   "outputs": [
    {
     "data": {
      "text/plain": [
       "array([[<Axes: title={'center': 'Kilo'}>,\n",
       "        <Axes: title={'center': 'Boy'}>]], dtype=object)"
      ]
     },
     "execution_count": 123,
     "metadata": {},
     "output_type": "execute_result"
    },
    {
     "data": {
      "image/png": "[encoded data removed]",
      "text/plain": [
       "<Figure size 640x480 with 2 Axes>"
      ]
     },
     "metadata": {},
     "output_type": "display_data"
    }
   ],
   "source": [
    "data[['Kilo', 'Boy']].hist(bins=20)"
   ]
  },
  {
   "cell_type": "code",
   "execution_count": 125,
   "id": "2d0dff28-6c02-4410-8586-5a2cc4121a9d",
   "metadata": {},
   "outputs": [
    {
     "name": "stdout",
     "output_type": "stream",
     "text": [
      "count    2357.000000\n",
      "mean       62.234620\n",
      "std         6.576611\n",
      "min        47.000000\n",
      "25%        58.000000\n",
      "50%        62.000000\n",
      "75%        67.000000\n",
      "max        77.000000\n",
      "Name: Ilac_Suresi, dtype: float64\n"
     ]
    }
   ],
   "source": [
    "data['Ilac_Suresi'] = (data['Ilac_Bitis_Tarihi'] - data['Ilac_Baslangic_Tarihi']).dt.days\n",
    "print(data['Ilac_Suresi'].describe())"
   ]
  },
  {
   "cell_type": "markdown",
   "id": "bc785abc-1c21-49d4-badb-0f53f51f565c",
   "metadata": {},
   "source": [
    "İlaç kullanma sürelerine bakıldığında ortalama olarak 62 gün kullanıldığı söylenebilir."
   ]
  },
  {
   "cell_type": "code",
   "execution_count": 144,
   "id": "da3f5c12-b8d2-43cb-a614-1134603dd85c",
   "metadata": {},
   "outputs": [
    {
     "name": "stdout",
     "output_type": "stream",
     "text": [
      "119.5\n",
      "227.5\n"
     ]
    }
   ],
   "source": [
    "Q1= data[\"Boy\"].quantile(0.25)\n",
    "Q3= data[\"Boy\"].quantile(0.75)\n",
    "IQR= Q3-Q1\n",
    "alt_sinir= Q1-1.5*IQR\n",
    "ust_sinir= Q3+1.5*IQR\n",
    "print(alt_sinir)\n",
    "print(ust_sinir)"
   ]
  },
  {
   "cell_type": "code",
   "execution_count": 154,
   "id": "c06b2fad-225e-4412-81a0-f91c65a44fc1",
   "metadata": {},
   "outputs": [
    {
     "data": {
      "text/plain": [
       "<Axes: xlabel='Boy'>"
      ]
     },
     "execution_count": 154,
     "metadata": {},
     "output_type": "execute_result"
    },
    {
     "data": {
      "image/png": "[encoded data removed]",
      "text/plain": [
       "<Figure size 640x480 with 1 Axes>"
      ]
     },
     "metadata": {},
     "output_type": "display_data"
    }
   ],
   "source": [
    "sns.boxplot(x=(data[\"Boy\"]))"
   ]
  },
  {
   "cell_type": "markdown",
   "id": "f1d1c21f-6696-4b8f-8f62-e7b4c8f99166",
   "metadata": {},
   "source": [
    "Boxplot grafiğine baktığımızda Boy değişkeninde aykırı değer olmadığını görüyoruz."
   ]
  },
  {
   "cell_type": "code",
   "execution_count": 160,
   "id": "5c59a053-e6c8-4dfa-9142-b68c56184718",
   "metadata": {},
   "outputs": [
    {
     "data": {
      "text/plain": [
       "<Axes: xlabel='Kilo'>"
      ]
     },
     "execution_count": 160,
     "metadata": {},
     "output_type": "execute_result"
    },
    {
     "data": {
      "image/png": "[encoded data removed]",
      "text/plain": [
       "<Figure size 640x480 with 1 Axes>"
      ]
     },
     "metadata": {},
     "output_type": "display_data"
    }
   ],
   "source": [
    "sns.boxplot(x=(data[\"Kilo\"]))"
   ]
  },
  {
   "cell_type": "markdown",
   "id": "b7e98069-5d78-48f4-b616-d5beec27d1a4",
   "metadata": {},
   "source": [
    "Kilo değişkeninde de aykırı gözlem yoktur yorumu yapılabilir."
   ]
  },
  {
   "cell_type": "code",
   "execution_count": 163,
   "id": "3ebc84c1-f6d0-4bf0-845a-99cec36a5860",
   "metadata": {},
   "outputs": [
    {
     "name": "stdout",
     "output_type": "stream",
     "text": [
      "          Kilo       Boy\n",
      "Kilo  1.000000 -0.173339\n",
      "Boy  -0.173339  1.000000\n"
     ]
    }
   ],
   "source": [
    "print(data[['Kilo', 'Boy']].corr())"
   ]
  },
  {
   "cell_type": "markdown",
   "id": "325d3444-7127-4393-88d0-5d32460ac0fe",
   "metadata": {},
   "source": [
    "Kilo ve boy arasındaki korelasyona baktığımızda -0.173 yani negatif yönde zayıf birilişki olduğu söylenebilir."
   ]
  },
  {
   "cell_type": "code",
   "execution_count": 165,
   "id": "af1c1997-ea73-4773-8e96-6e643166430a",
   "metadata": {},
   "outputs": [
    {
     "data": {
      "image/png": "[encoded data removed]",
      "text/plain": [
       "<Figure size 640x480 with 2 Axes>"
      ]
     },
     "metadata": {},
     "output_type": "display_data"
    }
   ],
   "source": [
    "import seaborn as sns\n",
    "import matplotlib.pyplot as plt\n",
    "sns.heatmap(data[['Kilo', 'Boy']].corr(), annot=True, cmap='coolwarm')\n",
    "plt.show()"
   ]
  },
  {
   "cell_type": "code",
   "execution_count": 169,
   "id": "8f0a31d6-22c4-4500-8fa1-26fc62ab05a1",
   "metadata": {},
   "outputs": [
    {
     "data": {
      "text/plain": [
       "Cinsiyet\n",
       "Female    79.875152\n",
       "Male      83.123055\n",
       "Name: Kilo, dtype: float64"
      ]
     },
     "execution_count": 169,
     "metadata": {},
     "output_type": "execute_result"
    }
   ],
   "source": [
    "data.groupby('Cinsiyet')['Kilo'].mean()"
   ]
  },
  {
   "cell_type": "code",
   "execution_count": 171,
   "id": "017249ec-01b6-4ff4-b70b-13da4a502e9c",
   "metadata": {},
   "outputs": [
    {
     "data": {
      "image/png": "[encoded data removed]",
      "text/plain": [
       "<Figure size 640x480 with 1 Axes>"
      ]
     },
     "metadata": {},
     "output_type": "display_data"
    }
   ],
   "source": [
    "sns.boxplot(x='Cinsiyet', y='Kilo', data=data)\n",
    "plt.show()"
   ]
  },
  {
   "cell_type": "markdown",
   "id": "779508b2-d75c-4ce6-9194-34046263dbce",
   "metadata": {},
   "source": [
    "Cinsiyet ve kilo değişkeni arasındaki ilişkiye bakıldığında ortalama olarak kadınların kilosunun erkeklerden daha az olduğu söylenebilir. "
   ]
  },
  {
   "cell_type": "code",
   "execution_count": 180,
   "id": "a8aac67c-89e9-4a12-8b68-06a01cd3653e",
   "metadata": {},
   "outputs": [
    {
     "name": "stdout",
     "output_type": "stream",
     "text": [
      "      Kullanici_id Cinsiyet Dogum_Tarihi    Uyruk         Il  \\\n",
      "0              107     Male   1960-03-01  Turkiye  Canakkale   \n",
      "1              140     Male   1939-10-12  Turkiye    Trabzon   \n",
      "2                2   Female   1976-12-17  Turkiye  Canakkale   \n",
      "3               83     Male   1977-06-17  Turkiye      Adana   \n",
      "4                7   Female   1976-09-03  Turkiye      Izmir   \n",
      "...            ...      ...          ...      ...        ...   \n",
      "2352             9   Female   1957-01-04  Turkiye      Adana   \n",
      "2353           101   Female   2004-11-09  Turkiye     Mersin   \n",
      "2354           127   Female   1951-11-29  Turkiye     Mersin   \n",
      "2355           178     Male   1980-01-30  Turkiye    Kayseri   \n",
      "2356           174   Female   1986-11-07  Turkiye   Istanbul   \n",
      "\n",
      "                               Ilac_Adi Ilac_Baslangic_Tarihi  \\\n",
      "0                       trifluoperazine            2022-01-09   \n",
      "1                      fluphenazine hcl            2022-01-09   \n",
      "2                       warfarin sodium            2022-01-11   \n",
      "3                         valproic acid            2022-01-04   \n",
      "4        carbamazepine extended release            2022-01-13   \n",
      "...                                 ...                   ...   \n",
      "2352  desoximetasone spray, non-aerosol            2022-01-13   \n",
      "2353              olanzapine-fluoxetine            2022-01-02   \n",
      "2354                          trazodone            2022-01-02   \n",
      "2355           duloxetine hydrochloride            2022-01-02   \n",
      "2356                      valproic acid            2022-01-06   \n",
      "\n",
      "     Ilac_Bitis_Tarihi               Yan_Etki Yan_Etki_Bildirim_Tarihi  ...  \\\n",
      "0           2022-03-04               Kabizlik      2022-02-19 18:28:43  ...   \n",
      "1           2022-03-08              Yorgunluk      2022-02-03 20:48:17  ...   \n",
      "2           2022-03-12               Carpinti      2022-02-04 05:29:20  ...   \n",
      "3           2022-03-12             Sinirlilik      2022-02-08 01:01:21  ...   \n",
      "4           2022-03-06  Agizda Farkli Bir Tat      2022-02-12 05:33:06  ...   \n",
      "...                ...                    ...                      ...  ...   \n",
      "2352        2022-03-04                  Ishal      2022-02-12 19:13:43  ...   \n",
      "2353        2022-03-05  Agizda Farkli Bir Tat      2022-02-19 17:39:48  ...   \n",
      "2354        2022-03-12              Yorgunluk      2022-02-03 20:48:17  ...   \n",
      "2355        2022-03-08               Carpinti      2022-02-04 05:29:20  ...   \n",
      "2356        2022-03-06           Istah Artisi      2022-02-17 07:08:01  ...   \n",
      "\n",
      "                 Kronik Hastaliklarim  Baba Kronik Hastaliklari  \\\n",
      "0     Hipertansiyon, Kan Hastaliklari      Guatr, Hipertansiyon   \n",
      "1                                   0              Guatr, Diger   \n",
      "2          Kalp Hastaliklari, Diyabet             Diyabet, KOAH   \n",
      "3                      Diyabet, Diger  Kalp Hastaliklari, Diger   \n",
      "4          Diyabet, Kalp Hastaliklari  Alzheimer, Hipertansiyon   \n",
      "...                               ...                       ...   \n",
      "2352                                0                             \n",
      "2353                                0      Hipertansiyon, Astim   \n",
      "2354                      Guatr, KOAH          Alzheimer, Diger   \n",
      "2355                 Alzheimer, Diger                         0   \n",
      "2356                 Alzheimer, Diger             Kanser, Diger   \n",
      "\n",
      "              Anne Kronik Hastaliklari    Kiz Kardes Kronik Hastaliklari  \\\n",
      "0                                 KOAH  Kemik Erimesi, Kalp Hastaliklari   \n",
      "1     Hipertansiyon, Kalp Hastaliklari                                     \n",
      "2               Kemik Erimesi, Diyabet            Diyabet, Kemik Erimesi   \n",
      "3                                    0                             Astim   \n",
      "4      Kan Hastaliklari, Kemik Erimesi                    Diyabet, Diger   \n",
      "...                                ...                               ...   \n",
      "2352                      Astim, Guatr                                     \n",
      "2353              Astim, Kemik Erimesi            KOAH, Kan Hastaliklari   \n",
      "2354                                 0                    Astim, Diyabet   \n",
      "2355          Kalp Hastaliklari, Diger                      Kanser, KOAH   \n",
      "2356   Hipertansiyon, Kan Hastaliklari                                     \n",
      "\n",
      "     Erkek Kardes Kronik Hastaliklari Kan Grubu   Kilo    Boy  Ilac_Suresi  \\\n",
      "0                Kemik Erimesi, Guatr     B RH-  103.0  191.0           54   \n",
      "1                       KOAH, Diyabet    AB RH-   81.0  181.0           58   \n",
      "2                               Diger     B RH-   93.0  158.0           60   \n",
      "3           Kalp Hastaliklari, Kanser    AB RH-   96.2  165.0           67   \n",
      "4            Alzheimer, Hipertansiyon    AB RH-   99.0  172.0           52   \n",
      "...                               ...       ...    ...    ...          ...   \n",
      "2352           KOAH, Kan Hastaliklari    AB RH-   50.0  152.0           50   \n",
      "2353                   Astim, Diyabet    AB RH-   69.2  178.0           62   \n",
      "2354         Kalp Hastaliklari, Diger     B RH+   90.0  203.0           69   \n",
      "2355                      Astim, KOAH    AB RH-   90.0  184.0           65   \n",
      "2356             Hipertansiyon, Diger    AB RH+   79.0  175.0           59   \n",
      "\n",
      "      cinsiyet_encoded  \n",
      "0                    1  \n",
      "1                    1  \n",
      "2                    0  \n",
      "3                    1  \n",
      "4                    0  \n",
      "...                ...  \n",
      "2352                 0  \n",
      "2353                 0  \n",
      "2354                 0  \n",
      "2355                 1  \n",
      "2356                 0  \n",
      "\n",
      "[2357 rows x 21 columns]\n"
     ]
    }
   ],
   "source": [
    "from sklearn.preprocessing import LabelEncoder\n",
    "df = pd.DataFrame(data)\n",
    "le = LabelEncoder()\n",
    "df['cinsiyet_encoded'] = le.fit_transform(data['Cinsiyet'])\n",
    "print(df)"
   ]
  },
  {
   "cell_type": "markdown",
   "id": "ce6b11cd-3632-4be9-8315-36f1b959c3f7",
   "metadata": {},
   "source": [
    "Cinsiyet kategorik değişkenini LabelEncoder algoritması kullanarak sayısal değişkene dönüştürdük."
   ]
  },
  {
   "cell_type": "code",
   "execution_count": 202,
   "id": "ac76e29c-3bf1-48f1-a981-bd567bd761cb",
   "metadata": {
    "scrolled": true
   },
   "outputs": [
    {
     "name": "stderr",
     "output_type": "stream",
     "text": [
      "C:\\Users\\senay\\AppData\\Local\\Temp\\ipykernel_8228\\570410678.py:1: UserWarning: \n",
      "\n",
      "`distplot` is a deprecated function and will be removed in seaborn v0.14.0.\n",
      "\n",
      "Please adapt your code to use either `displot` (a figure-level function with\n",
      "similar flexibility) or `kdeplot` (an axes-level function for kernel density plots).\n",
      "\n",
      "For a guide to updating your code to use the new functions, please see\n",
      "https://gist.github.com/mwaskom/de44147ed2974457ad6372750bbe5751\n",
      "\n",
      "  sns.distplot((data[\"Ilac_Suresi\"]), hist=False)\n"
     ]
    },
    {
     "data": {
      "text/plain": [
       "<Axes: xlabel='Ilac_Suresi', ylabel='Density'>"
      ]
     },
     "execution_count": 202,
     "metadata": {},
     "output_type": "execute_result"
    },
    {
     "data": {
      "image/png": "[encoded data removed]",
      "text/plain": [
       "<Figure size 640x480 with 1 Axes>"
      ]
     },
     "metadata": {},
     "output_type": "display_data"
    }
   ],
   "source": [
    "sns.distplot((data[\"Ilac_Suresi\"]), hist=False)\n"
   ]
  },
  {
   "cell_type": "code",
   "execution_count": 204,
   "id": "d87b55fc-1f95-414f-85c9-e6d78340c93a",
   "metadata": {},
   "outputs": [
    {
     "data": {
      "image/png": "[encoded data removed]",
      "text/plain": [
       "<Figure size 605.375x500 with 1 Axes>"
      ]
     },
     "metadata": {},
     "output_type": "display_data"
    }
   ],
   "source": [
    "sns.catplot(x=\"Cinsiyet\", y=\"Ilac_S\", hue=\"Kan Grubu\", kind=\"point\", data=data);"
   ]
  },
  {
   "cell_type": "markdown",
   "id": "2366fb89-68f8-40a6-8fd1-a4eba65f16fa",
   "metadata": {},
   "source": [
    "Cinsiyet ve kan grubuna bağlı ilaç kullanma süresine baktığımızda erkekler arasında daha büyük değişkenlik gösterdiği yorumunu yapabiliriz."
   ]
  }
 ],
 "metadata": {
  "kernelspec": {
   "display_name": "Python 3 (ipykernel)",
   "language": "python",
   "name": "python3"
  },
  "language_info": {
   "codemirror_mode": {
    "name": "ipython",
    "version": 3
   },
   "file_extension": ".py",
   "mimetype": "text/x-python",
   "name": "python",
   "nbconvert_exporter": "python",
   "pygments_lexer": "ipython3",
   "version": "3.12.4"
  }
 },
 "nbformat": 4,
 "nbformat_minor": 5
}
